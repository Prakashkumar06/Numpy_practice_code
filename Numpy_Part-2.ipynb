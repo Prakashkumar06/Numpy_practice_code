{
 "cells": [
  {
   "cell_type": "code",
   "execution_count": 3,
   "id": "0afde52f-4bb3-4711-a1c7-f96a2e0d472b",
   "metadata": {},
   "outputs": [],
   "source": [
    "#numpy - array manipulation"
   ]
  },
  {
   "cell_type": "code",
   "execution_count": 4,
   "id": "4f757a4a-7f07-4fe1-9b75-75e3cb25982a",
   "metadata": {},
   "outputs": [],
   "source": [
    "import numpy as np "
   ]
  },
  {
   "cell_type": "code",
   "execution_count": 5,
   "id": "d594d9b3-230d-4dde-98ba-09ec10018f38",
   "metadata": {},
   "outputs": [],
   "source": [
    "arr =  np.random.randint(1,10 , (3,4))"
   ]
  },
  {
   "cell_type": "code",
   "execution_count": 6,
   "id": "d7fa31a9-c1d6-4764-a363-4a70424ea3b7",
   "metadata": {},
   "outputs": [
    {
     "data": {
      "text/plain": [
       "array([[2, 3, 7, 6],\n",
       "       [7, 5, 5, 6],\n",
       "       [7, 5, 4, 4]])"
      ]
     },
     "execution_count": 6,
     "metadata": {},
     "output_type": "execute_result"
    }
   ],
   "source": [
    "arr"
   ]
  },
  {
   "cell_type": "code",
   "execution_count": 7,
   "id": "bbc5d403-956a-4dc7-91f9-cdbd5ecf1173",
   "metadata": {},
   "outputs": [
    {
     "data": {
      "text/plain": [
       "array([[2, 3],\n",
       "       [7, 6],\n",
       "       [7, 5],\n",
       "       [5, 6],\n",
       "       [7, 5],\n",
       "       [4, 4]])"
      ]
     },
     "execution_count": 7,
     "metadata": {},
     "output_type": "execute_result"
    }
   ],
   "source": [
    "arr.reshape(6,2)"
   ]
  },
  {
   "cell_type": "code",
   "execution_count": 8,
   "id": "4e3a0441-f316-4c8b-a4b7-c6f568fe6061",
   "metadata": {},
   "outputs": [
    {
     "data": {
      "text/plain": [
       "array([[2, 3, 7, 6, 7, 5],\n",
       "       [5, 6, 7, 5, 4, 4]])"
      ]
     },
     "execution_count": 8,
     "metadata": {},
     "output_type": "execute_result"
    }
   ],
   "source": [
    "arr.reshape(2,6)"
   ]
  },
  {
   "cell_type": "code",
   "execution_count": 9,
   "id": "dcfaad8f-c32d-4e45-b650-e2903c880f62",
   "metadata": {},
   "outputs": [
    {
     "data": {
      "text/plain": [
       "array([[2, 7, 7],\n",
       "       [3, 5, 5],\n",
       "       [7, 5, 4],\n",
       "       [6, 6, 4]])"
      ]
     },
     "execution_count": 9,
     "metadata": {},
     "output_type": "execute_result"
    }
   ],
   "source": [
    "arr.T"
   ]
  },
  {
   "cell_type": "code",
   "execution_count": 10,
   "id": "8476d113-de3f-4550-8a6b-80e78dd5d8d9",
   "metadata": {},
   "outputs": [
    {
     "data": {
      "text/plain": [
       "array([2, 3, 7, 6, 7, 5, 5, 6, 7, 5, 4, 4])"
      ]
     },
     "execution_count": 10,
     "metadata": {},
     "output_type": "execute_result"
    }
   ],
   "source": [
    "arr.flatten()"
   ]
  },
  {
   "cell_type": "code",
   "execution_count": 11,
   "id": "fc94ca18-11bf-424c-864b-4afd17f6ea11",
   "metadata": {},
   "outputs": [],
   "source": [
    "arr1 = np.array([1,2,3,4,3,4])"
   ]
  },
  {
   "cell_type": "code",
   "execution_count": 13,
   "id": "83e67ca6-dec1-4e7a-b4be-1b79ba7e58d5",
   "metadata": {},
   "outputs": [
    {
     "data": {
      "text/plain": [
       "1"
      ]
     },
     "execution_count": 13,
     "metadata": {},
     "output_type": "execute_result"
    }
   ],
   "source": [
    "arr1.ndim"
   ]
  },
  {
   "cell_type": "code",
   "execution_count": 15,
   "id": "087c5ff4-0333-448f-8a14-44c834fe73ee",
   "metadata": {},
   "outputs": [
    {
     "data": {
      "text/plain": [
       "array([[1],\n",
       "       [2],\n",
       "       [3],\n",
       "       [4],\n",
       "       [3],\n",
       "       [4]])"
      ]
     },
     "execution_count": 15,
     "metadata": {},
     "output_type": "execute_result"
    }
   ],
   "source": [
    "np.expand_dims(arr1 , axis = 1)"
   ]
  },
  {
   "cell_type": "code",
   "execution_count": 16,
   "id": "4aec00ea-f3b8-45f9-b152-359ecb799f98",
   "metadata": {},
   "outputs": [
    {
     "data": {
      "text/plain": [
       "array([[1, 2, 3, 4, 3, 4]])"
      ]
     },
     "execution_count": 16,
     "metadata": {},
     "output_type": "execute_result"
    }
   ],
   "source": [
    "np.expand_dims(arr1 , axis = 0)"
   ]
  },
  {
   "cell_type": "code",
   "execution_count": 17,
   "id": "426a6fd6-22d2-4e56-878b-000a47c38418",
   "metadata": {},
   "outputs": [
    {
     "data": {
      "text/plain": [
       "array([[2, 3, 7, 6],\n",
       "       [7, 5, 5, 6],\n",
       "       [7, 5, 4, 4]])"
      ]
     },
     "execution_count": 17,
     "metadata": {},
     "output_type": "execute_result"
    }
   ],
   "source": [
    "arr"
   ]
  },
  {
   "cell_type": "code",
   "execution_count": 18,
   "id": "28db94b9-fa02-461d-87e7-6b3a4a3263f1",
   "metadata": {},
   "outputs": [
    {
     "data": {
      "text/plain": [
       "array([[2, 3, 7, 6],\n",
       "       [7, 5, 5, 6],\n",
       "       [7, 5, 4, 4]])"
      ]
     },
     "execution_count": 18,
     "metadata": {},
     "output_type": "execute_result"
    }
   ],
   "source": [
    "np.squeeze(arr)"
   ]
  },
  {
   "cell_type": "code",
   "execution_count": 19,
   "id": "32bc1cb6-4635-4d8a-95e0-5cd277aaa2b8",
   "metadata": {},
   "outputs": [],
   "source": [
    "data = np.array([[1] , [2] , [3]])"
   ]
  },
  {
   "cell_type": "code",
   "execution_count": 20,
   "id": "bf6d9054-1418-4e0c-8ac3-70d6ab6f55fe",
   "metadata": {},
   "outputs": [
    {
     "data": {
      "text/plain": [
       "array([[1],\n",
       "       [2],\n",
       "       [3]])"
      ]
     },
     "execution_count": 20,
     "metadata": {},
     "output_type": "execute_result"
    }
   ],
   "source": [
    "data"
   ]
  },
  {
   "cell_type": "code",
   "execution_count": 21,
   "id": "44d79d8e-fc4b-41e8-98f3-719c96437c99",
   "metadata": {},
   "outputs": [
    {
     "data": {
      "text/plain": [
       "array([1, 2, 3])"
      ]
     },
     "execution_count": 21,
     "metadata": {},
     "output_type": "execute_result"
    }
   ],
   "source": [
    "np.squeeze(data)"
   ]
  },
  {
   "cell_type": "code",
   "execution_count": 22,
   "id": "aacc011d-6a3a-47c3-a1b5-653a2be9dd4b",
   "metadata": {},
   "outputs": [
    {
     "data": {
      "text/plain": [
       "array([1, 2, 3, 4, 3, 4])"
      ]
     },
     "execution_count": 22,
     "metadata": {},
     "output_type": "execute_result"
    }
   ],
   "source": [
    "arr1"
   ]
  },
  {
   "cell_type": "code",
   "execution_count": 23,
   "id": "3619fb8c-2e9d-4b6e-8eb8-ecb7c7703f5d",
   "metadata": {},
   "outputs": [
    {
     "data": {
      "text/plain": [
       "array([1, 1, 1, 2, 2, 2, 3, 3, 3, 4, 4, 4, 3, 3, 3, 4, 4, 4])"
      ]
     },
     "execution_count": 23,
     "metadata": {},
     "output_type": "execute_result"
    }
   ],
   "source": [
    "np.repeat(arr1, 3)"
   ]
  },
  {
   "cell_type": "code",
   "execution_count": 25,
   "id": "26d64166-ece1-4c77-b0d2-3db272d3ade9",
   "metadata": {},
   "outputs": [
    {
     "data": {
      "text/plain": [
       "array([3, 4, 1, 2, 3, 4])"
      ]
     },
     "execution_count": 25,
     "metadata": {},
     "output_type": "execute_result"
    }
   ],
   "source": [
    "np.roll(arr1 , 2)"
   ]
  },
  {
   "cell_type": "code",
   "execution_count": 26,
   "id": "020172fa-3da6-46f4-8160-3442ff7d15a2",
   "metadata": {},
   "outputs": [
    {
     "data": {
      "text/plain": [
       "array([1, 2, 3, 4, 3, 4])"
      ]
     },
     "execution_count": 26,
     "metadata": {},
     "output_type": "execute_result"
    }
   ],
   "source": [
    "arr1"
   ]
  },
  {
   "cell_type": "code",
   "execution_count": 27,
   "id": "5031dfe7-f03e-4411-8f52-dc1d071b42e3",
   "metadata": {},
   "outputs": [
    {
     "data": {
      "text/plain": [
       "array([[1, 0, 0, 0, 0, 0],\n",
       "       [0, 2, 0, 0, 0, 0],\n",
       "       [0, 0, 3, 0, 0, 0],\n",
       "       [0, 0, 0, 4, 0, 0],\n",
       "       [0, 0, 0, 0, 3, 0],\n",
       "       [0, 0, 0, 0, 0, 4]])"
      ]
     },
     "execution_count": 27,
     "metadata": {},
     "output_type": "execute_result"
    }
   ],
   "source": [
    "np.diag(arr1)"
   ]
  },
  {
   "cell_type": "code",
   "execution_count": 28,
   "id": "9d5301a1-b064-45ea-beae-5b291d92f7ad",
   "metadata": {},
   "outputs": [],
   "source": [
    "#numpy - Binary operation"
   ]
  },
  {
   "cell_type": "code",
   "execution_count": 30,
   "id": "7bcc7bf8-421c-49f9-8551-427a864b6e74",
   "metadata": {},
   "outputs": [],
   "source": [
    "arr1 = np.random.randint(1,10 , (3,4))"
   ]
  },
  {
   "cell_type": "code",
   "execution_count": 32,
   "id": "e6cc1c6b-338e-4bdd-8187-9541e10efdd6",
   "metadata": {},
   "outputs": [],
   "source": [
    "arr2 = np.random.randint(1,10 , (3,4))"
   ]
  },
  {
   "cell_type": "code",
   "execution_count": 33,
   "id": "09a4f3a0-e30a-4177-bb6a-f902e049595e",
   "metadata": {},
   "outputs": [
    {
     "data": {
      "text/plain": [
       "array([[5, 4, 2, 6],\n",
       "       [5, 9, 9, 1],\n",
       "       [9, 7, 4, 3]])"
      ]
     },
     "execution_count": 33,
     "metadata": {},
     "output_type": "execute_result"
    }
   ],
   "source": [
    "arr1"
   ]
  },
  {
   "cell_type": "code",
   "execution_count": 34,
   "id": "29ab096d-65f5-4cd8-bca5-03413b62c277",
   "metadata": {},
   "outputs": [
    {
     "data": {
      "text/plain": [
       "array([[2, 7, 9, 6],\n",
       "       [8, 4, 9, 8],\n",
       "       [9, 2, 9, 9]])"
      ]
     },
     "execution_count": 34,
     "metadata": {},
     "output_type": "execute_result"
    }
   ],
   "source": [
    "arr2"
   ]
  },
  {
   "cell_type": "code",
   "execution_count": 35,
   "id": "bf7e7e66-795e-46ad-b522-cddafed9146f",
   "metadata": {},
   "outputs": [
    {
     "data": {
      "text/plain": [
       "array([[ 7, 11, 11, 12],\n",
       "       [13, 13, 18,  9],\n",
       "       [18,  9, 13, 12]])"
      ]
     },
     "execution_count": 35,
     "metadata": {},
     "output_type": "execute_result"
    }
   ],
   "source": [
    "arr1+arr2"
   ]
  },
  {
   "cell_type": "code",
   "execution_count": 36,
   "id": "fae85dcb-e75d-4ad0-a72b-6bc10709757a",
   "metadata": {},
   "outputs": [
    {
     "data": {
      "text/plain": [
       "array([[10, 28, 18, 36],\n",
       "       [40, 36, 81,  8],\n",
       "       [81, 14, 36, 27]])"
      ]
     },
     "execution_count": 36,
     "metadata": {},
     "output_type": "execute_result"
    }
   ],
   "source": [
    "arr1*arr2"
   ]
  },
  {
   "cell_type": "code",
   "execution_count": 37,
   "id": "f7077887-e7fa-4d88-95d4-a91333937e62",
   "metadata": {},
   "outputs": [
    {
     "data": {
      "text/plain": [
       "array([[2.5       , 0.57142857, 0.22222222, 1.        ],\n",
       "       [0.625     , 2.25      , 1.        , 0.125     ],\n",
       "       [1.        , 3.5       , 0.44444444, 0.33333333]])"
      ]
     },
     "execution_count": 37,
     "metadata": {},
     "output_type": "execute_result"
    }
   ],
   "source": [
    "arr1/arr2"
   ]
  },
  {
   "cell_type": "code",
   "execution_count": 38,
   "id": "d8f23f2c-7d1c-44c7-87a6-4ae2b24b5ae2",
   "metadata": {},
   "outputs": [
    {
     "data": {
      "text/plain": [
       "array([[ 3, -3, -7,  0],\n",
       "       [-3,  5,  0, -7],\n",
       "       [ 0,  5, -5, -6]])"
      ]
     },
     "execution_count": 38,
     "metadata": {},
     "output_type": "execute_result"
    }
   ],
   "source": [
    "arr1-arr2"
   ]
  },
  {
   "cell_type": "code",
   "execution_count": 39,
   "id": "eae7db9d-771f-44d1-bb05-310021066fde",
   "metadata": {},
   "outputs": [
    {
     "data": {
      "text/plain": [
       "array([[1, 4, 2, 0],\n",
       "       [5, 1, 0, 1],\n",
       "       [0, 1, 4, 3]])"
      ]
     },
     "execution_count": 39,
     "metadata": {},
     "output_type": "execute_result"
    }
   ],
   "source": [
    "arr1%arr2"
   ]
  },
  {
   "cell_type": "code",
   "execution_count": 40,
   "id": "cf3a4c12-6da0-4ff8-981b-dca6fbde902b",
   "metadata": {},
   "outputs": [
    {
     "data": {
      "text/plain": [
       "array([[       25,     16384,       512,     46656],\n",
       "       [   390625,      6561, 387420489,         1],\n",
       "       [387420489,        49,    262144,     19683]])"
      ]
     },
     "execution_count": 40,
     "metadata": {},
     "output_type": "execute_result"
    }
   ],
   "source": [
    "arr1**arr2"
   ]
  },
  {
   "cell_type": "code",
   "execution_count": 41,
   "id": "2b165dad-78e5-4d0b-94cd-eb101f62bad2",
   "metadata": {},
   "outputs": [
    {
     "data": {
      "text/plain": [
       "array([[0, 4, 0, 6],\n",
       "       [0, 0, 9, 0],\n",
       "       [9, 2, 0, 1]])"
      ]
     },
     "execution_count": 41,
     "metadata": {},
     "output_type": "execute_result"
    }
   ],
   "source": [
    "arr1 &arr2"
   ]
  },
  {
   "cell_type": "code",
   "execution_count": 42,
   "id": "3eb05821-2118-4729-9035-e95fe8cba5cb",
   "metadata": {},
   "outputs": [
    {
     "data": {
      "text/plain": [
       "array([[5, 4, 2, 6],\n",
       "       [5, 9, 9, 1],\n",
       "       [9, 7, 4, 3]])"
      ]
     },
     "execution_count": 42,
     "metadata": {},
     "output_type": "execute_result"
    }
   ],
   "source": [
    "arr1"
   ]
  },
  {
   "cell_type": "code",
   "execution_count": 43,
   "id": "566df3f1-87ce-4534-813b-c3f492c650c9",
   "metadata": {},
   "outputs": [
    {
     "data": {
      "text/plain": [
       "array([[2, 7, 9, 6],\n",
       "       [8, 4, 9, 8],\n",
       "       [9, 2, 9, 9]])"
      ]
     },
     "execution_count": 43,
     "metadata": {},
     "output_type": "execute_result"
    }
   ],
   "source": [
    "arr2"
   ]
  },
  {
   "cell_type": "code",
   "execution_count": 44,
   "id": "9bb1dcca-5d21-438e-b0d1-6095c32b64a9",
   "metadata": {},
   "outputs": [
    {
     "data": {
      "text/plain": [
       "array([[ -6,  -5,  -3,  -7],\n",
       "       [ -6, -10, -10,  -2],\n",
       "       [-10,  -8,  -5,  -4]])"
      ]
     },
     "execution_count": 44,
     "metadata": {},
     "output_type": "execute_result"
    }
   ],
   "source": [
    "~arr1"
   ]
  },
  {
   "cell_type": "code",
   "execution_count": 45,
   "id": "648ca4be-638f-490d-98c6-b8f1ff4f37d8",
   "metadata": {},
   "outputs": [
    {
     "data": {
      "text/plain": [
       "array([[ 7,  7, 11,  6],\n",
       "       [13, 13,  9,  9],\n",
       "       [ 9,  7, 13, 11]])"
      ]
     },
     "execution_count": 45,
     "metadata": {},
     "output_type": "execute_result"
    }
   ],
   "source": [
    "arr1|arr2"
   ]
  },
  {
   "cell_type": "code",
   "execution_count": 46,
   "id": "81da56bd-4d20-4e70-bb37-367d4e091d73",
   "metadata": {},
   "outputs": [
    {
     "data": {
      "text/plain": [
       "array([[ True, False, False, False],\n",
       "       [False,  True, False, False],\n",
       "       [False,  True, False, False]])"
      ]
     },
     "execution_count": 46,
     "metadata": {},
     "output_type": "execute_result"
    }
   ],
   "source": [
    "arr1>arr2"
   ]
  },
  {
   "cell_type": "code",
   "execution_count": 47,
   "id": "5f2dcb35-4e85-4ed5-8728-dc7e8546697e",
   "metadata": {},
   "outputs": [],
   "source": [
    "#numpy - string"
   ]
  },
  {
   "cell_type": "code",
   "execution_count": 48,
   "id": "f307e102-5c3c-41dd-96db-9620b662c50b",
   "metadata": {},
   "outputs": [],
   "source": [
    "arr = np.array(['prakash','kumar'])"
   ]
  },
  {
   "cell_type": "code",
   "execution_count": 49,
   "id": "6c80a5a9-6c6d-4827-81ed-4f3acd2e92df",
   "metadata": {},
   "outputs": [
    {
     "data": {
      "text/plain": [
       "array(['prakash', 'kumar'], dtype='<U7')"
      ]
     },
     "execution_count": 49,
     "metadata": {},
     "output_type": "execute_result"
    }
   ],
   "source": [
    "arr"
   ]
  },
  {
   "cell_type": "code",
   "execution_count": 50,
   "id": "978b90e8-113a-440b-b947-7eeb5e7ffa1d",
   "metadata": {},
   "outputs": [
    {
     "data": {
      "text/plain": [
       "array(['PRAKASH', 'KUMAR'], dtype='<U7')"
      ]
     },
     "execution_count": 50,
     "metadata": {},
     "output_type": "execute_result"
    }
   ],
   "source": [
    "np.char.upper(arr)"
   ]
  },
  {
   "cell_type": "code",
   "execution_count": 52,
   "id": "60cd091e-ddc5-4bce-a255-a2c936e014d2",
   "metadata": {},
   "outputs": [
    {
     "data": {
      "text/plain": [
       "array(['Prakash', 'Kumar'], dtype='<U7')"
      ]
     },
     "execution_count": 52,
     "metadata": {},
     "output_type": "execute_result"
    }
   ],
   "source": [
    "np.char.title(arr)"
   ]
  },
  {
   "cell_type": "code",
   "execution_count": 53,
   "id": "9fcb9fbf-7b5e-4cd4-8972-cc6c2e0dc7d4",
   "metadata": {},
   "outputs": [
    {
     "data": {
      "text/plain": [
       "array(['Prakash', 'Kumar'], dtype='<U7')"
      ]
     },
     "execution_count": 53,
     "metadata": {},
     "output_type": "execute_result"
    }
   ],
   "source": [
    "np.char.capitalize(arr)"
   ]
  },
  {
   "cell_type": "code",
   "execution_count": 54,
   "id": "cf80d561-487a-45de-8650-0405895ce0b9",
   "metadata": {},
   "outputs": [],
   "source": [
    "#numpy - mathematical function"
   ]
  },
  {
   "cell_type": "code",
   "execution_count": 55,
   "id": "4f09efb7-a7b3-4bb3-884b-2b7c7c82e4ad",
   "metadata": {},
   "outputs": [
    {
     "data": {
      "text/plain": [
       "array([[5, 4, 2, 6],\n",
       "       [5, 9, 9, 1],\n",
       "       [9, 7, 4, 3]])"
      ]
     },
     "execution_count": 55,
     "metadata": {},
     "output_type": "execute_result"
    }
   ],
   "source": [
    "arr1"
   ]
  },
  {
   "cell_type": "code",
   "execution_count": 56,
   "id": "f40e0921-1d8b-4c43-b30a-0ea69aeba49f",
   "metadata": {},
   "outputs": [
    {
     "data": {
      "text/plain": [
       "array([[-0.95892427, -0.7568025 ,  0.90929743, -0.2794155 ],\n",
       "       [-0.95892427,  0.41211849,  0.41211849,  0.84147098],\n",
       "       [ 0.41211849,  0.6569866 , -0.7568025 ,  0.14112001]])"
      ]
     },
     "execution_count": 56,
     "metadata": {},
     "output_type": "execute_result"
    }
   ],
   "source": [
    "np.sin(arr1)"
   ]
  },
  {
   "cell_type": "code",
   "execution_count": 57,
   "id": "9069f12a-03d6-434d-8c9f-587cafd5d93c",
   "metadata": {},
   "outputs": [
    {
     "data": {
      "text/plain": [
       "array([[ 0.28366219, -0.65364362, -0.41614684,  0.96017029],\n",
       "       [ 0.28366219, -0.91113026, -0.91113026,  0.54030231],\n",
       "       [-0.91113026,  0.75390225, -0.65364362, -0.9899925 ]])"
      ]
     },
     "execution_count": 57,
     "metadata": {},
     "output_type": "execute_result"
    }
   ],
   "source": [
    "np.cos(arr1)"
   ]
  },
  {
   "cell_type": "code",
   "execution_count": 59,
   "id": "146503c2-47b4-4d0f-9025-52a9dc5a6833",
   "metadata": {},
   "outputs": [
    {
     "data": {
      "text/plain": [
       "array([[-3.38051501,  1.15782128, -2.18503986, -0.29100619],\n",
       "       [-3.38051501, -0.45231566, -0.45231566,  1.55740772],\n",
       "       [-0.45231566,  0.87144798,  1.15782128, -0.14254654]])"
      ]
     },
     "execution_count": 59,
     "metadata": {},
     "output_type": "execute_result"
    }
   ],
   "source": [
    "np.tan(arr1)"
   ]
  },
  {
   "cell_type": "code",
   "execution_count": 60,
   "id": "0c41ad3a-e9b4-4946-8326-f1e1fcf587b9",
   "metadata": {},
   "outputs": [
    {
     "data": {
      "text/plain": [
       "array([[0.9999092 , 0.9993293 , 0.96402758, 0.99998771],\n",
       "       [0.9999092 , 0.99999997, 0.99999997, 0.76159416],\n",
       "       [0.99999997, 0.99999834, 0.9993293 , 0.99505475]])"
      ]
     },
     "execution_count": 60,
     "metadata": {},
     "output_type": "execute_result"
    }
   ],
   "source": [
    "np.tanh(arr1)"
   ]
  },
  {
   "cell_type": "code",
   "execution_count": 61,
   "id": "b511db47-cb11-4922-bff2-96d165f6bc5e",
   "metadata": {},
   "outputs": [
    {
     "data": {
      "text/plain": [
       "array([[0.69897   , 0.60205999, 0.30103   , 0.77815125],\n",
       "       [0.69897   , 0.95424251, 0.95424251, 0.        ],\n",
       "       [0.95424251, 0.84509804, 0.60205999, 0.47712125]])"
      ]
     },
     "execution_count": 61,
     "metadata": {},
     "output_type": "execute_result"
    }
   ],
   "source": [
    "np.log10(arr1)"
   ]
  },
  {
   "cell_type": "code",
   "execution_count": 62,
   "id": "e645894d-5247-44ba-8ec2-4889fbae3521",
   "metadata": {},
   "outputs": [
    {
     "data": {
      "text/plain": [
       "array([[25, 16,  4, 36],\n",
       "       [25, 81, 81,  1],\n",
       "       [81, 49, 16,  9]])"
      ]
     },
     "execution_count": 62,
     "metadata": {},
     "output_type": "execute_result"
    }
   ],
   "source": [
    "np.power(arr1 , 2)"
   ]
  },
  {
   "cell_type": "code",
   "execution_count": 63,
   "id": "1a695042-9e4a-4504-af17-e535cf02ec75",
   "metadata": {},
   "outputs": [
    {
     "data": {
      "text/plain": [
       "5.333333333333333"
      ]
     },
     "execution_count": 63,
     "metadata": {},
     "output_type": "execute_result"
    }
   ],
   "source": [
    "np.mean(arr1)"
   ]
  },
  {
   "cell_type": "code",
   "execution_count": 66,
   "id": "2bbfcfa5-42b2-408f-abf1-71c3721e9412",
   "metadata": {},
   "outputs": [
    {
     "data": {
      "text/plain": [
       "5.0"
      ]
     },
     "execution_count": 66,
     "metadata": {},
     "output_type": "execute_result"
    }
   ],
   "source": [
    "np.median(arr1)"
   ]
  },
  {
   "cell_type": "code",
   "execution_count": 67,
   "id": "169eec73-78ec-4b5f-97cb-30be7fffd001",
   "metadata": {},
   "outputs": [
    {
     "data": {
      "text/plain": [
       "2.6246692913372702"
      ]
     },
     "execution_count": 67,
     "metadata": {},
     "output_type": "execute_result"
    }
   ],
   "source": [
    "np.std(arr1)"
   ]
  },
  {
   "cell_type": "code",
   "execution_count": 68,
   "id": "074698cb-7640-434c-b81d-19cd64d397b1",
   "metadata": {},
   "outputs": [
    {
     "data": {
      "text/plain": [
       "6.888888888888889"
      ]
     },
     "execution_count": 68,
     "metadata": {},
     "output_type": "execute_result"
    }
   ],
   "source": [
    "np.var(arr1)"
   ]
  },
  {
   "cell_type": "code",
   "execution_count": 69,
   "id": "1ccb6b0f-dc45-4484-9e46-7a2d4af7699d",
   "metadata": {},
   "outputs": [
    {
     "data": {
      "text/plain": [
       "1"
      ]
     },
     "execution_count": 69,
     "metadata": {},
     "output_type": "execute_result"
    }
   ],
   "source": [
    "np.min(arr1)"
   ]
  },
  {
   "cell_type": "code",
   "execution_count": 70,
   "id": "7a2159e3-d737-44f7-b7f4-b64706831694",
   "metadata": {},
   "outputs": [
    {
     "data": {
      "text/plain": [
       "9"
      ]
     },
     "execution_count": 70,
     "metadata": {},
     "output_type": "execute_result"
    }
   ],
   "source": [
    "np.max(arr1)"
   ]
  },
  {
   "cell_type": "code",
   "execution_count": null,
   "id": "41d99164-af18-45c2-87cf-70c867018a97",
   "metadata": {},
   "outputs": [],
   "source": []
  }
 ],
 "metadata": {
  "kernelspec": {
   "display_name": "Python 3 (ipykernel)",
   "language": "python",
   "name": "python3"
  },
  "language_info": {
   "codemirror_mode": {
    "name": "ipython",
    "version": 3
   },
   "file_extension": ".py",
   "mimetype": "text/x-python",
   "name": "python",
   "nbconvert_exporter": "python",
   "pygments_lexer": "ipython3",
   "version": "3.10.8"
  }
 },
 "nbformat": 4,
 "nbformat_minor": 5
}
