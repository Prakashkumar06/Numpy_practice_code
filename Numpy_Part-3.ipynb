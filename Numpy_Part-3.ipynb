{
 "cells": [
  {
   "cell_type": "code",
   "execution_count": 1,
   "id": "9de7f9f5-5569-42c7-bccf-2aec068aa358",
   "metadata": {},
   "outputs": [],
   "source": [
    "#sort ,search & counting function"
   ]
  },
  {
   "cell_type": "code",
   "execution_count": 2,
   "id": "a203de10-c07a-406c-b6e1-ba849656e5b1",
   "metadata": {},
   "outputs": [],
   "source": [
    "import numpy as np"
   ]
  },
  {
   "cell_type": "code",
   "execution_count": 4,
   "id": "50002908-b821-458b-8e34-9615bfe9b9ab",
   "metadata": {},
   "outputs": [],
   "source": [
    "arr = np.array([4,2,4,78,9,356,242,63,26,647,4,7])"
   ]
  },
  {
   "cell_type": "code",
   "execution_count": 5,
   "id": "d3db69d0-c5a6-4d17-8265-9d676ecdcb8e",
   "metadata": {},
   "outputs": [
    {
     "data": {
      "text/plain": [
       "array([  4,   2,   4,  78,   9, 356, 242,  63,  26, 647,   4,   7])"
      ]
     },
     "execution_count": 5,
     "metadata": {},
     "output_type": "execute_result"
    }
   ],
   "source": [
    "arr"
   ]
  },
  {
   "cell_type": "code",
   "execution_count": 6,
   "id": "f9c43be4-66da-44b4-af98-c3351c98ef41",
   "metadata": {},
   "outputs": [
    {
     "data": {
      "text/plain": [
       "array([  2,   4,   4,   4,   7,   9,  26,  63,  78, 242, 356, 647])"
      ]
     },
     "execution_count": 6,
     "metadata": {},
     "output_type": "execute_result"
    }
   ],
   "source": [
    "np.sort(arr)"
   ]
  },
  {
   "cell_type": "code",
   "execution_count": 8,
   "id": "c5bc3486-4ee7-40a2-942f-edaee538853d",
   "metadata": {},
   "outputs": [
    {
     "data": {
      "text/plain": [
       "3"
      ]
     },
     "execution_count": 8,
     "metadata": {},
     "output_type": "execute_result"
    }
   ],
   "source": [
    "np.searchsorted(arr ,10)"
   ]
  },
  {
   "cell_type": "code",
   "execution_count": 9,
   "id": "2ab41062-8e51-41c1-8b5a-3f09611a0945",
   "metadata": {},
   "outputs": [],
   "source": [
    "arr1 = np.array([0,242,466,12,66,0,0,0,0,0])"
   ]
  },
  {
   "cell_type": "code",
   "execution_count": 10,
   "id": "931622db-c3e0-4296-9f24-62451cad9454",
   "metadata": {},
   "outputs": [
    {
     "data": {
      "text/plain": [
       "4"
      ]
     },
     "execution_count": 10,
     "metadata": {},
     "output_type": "execute_result"
    }
   ],
   "source": [
    "np.count_nonzero(arr1)"
   ]
  },
  {
   "cell_type": "code",
   "execution_count": 11,
   "id": "1a168b64-049b-4035-b047-ae633c887330",
   "metadata": {},
   "outputs": [
    {
     "data": {
      "text/plain": [
       "array([  4,   2,   4,  78,   9, 356, 242,  63,  26, 647,   4,   7])"
      ]
     },
     "execution_count": 11,
     "metadata": {},
     "output_type": "execute_result"
    }
   ],
   "source": [
    "arr"
   ]
  },
  {
   "cell_type": "code",
   "execution_count": 12,
   "id": "d2c24870-ede5-40c0-8567-c3dd56f6ec05",
   "metadata": {},
   "outputs": [
    {
     "data": {
      "text/plain": [
       "(array([3, 5, 6, 7, 8, 9]),)"
      ]
     },
     "execution_count": 12,
     "metadata": {},
     "output_type": "execute_result"
    }
   ],
   "source": [
    "np.where(arr>10)"
   ]
  },
  {
   "cell_type": "code",
   "execution_count": 13,
   "id": "ae62b742-ca5a-4f00-975f-f90681b3dac5",
   "metadata": {},
   "outputs": [
    {
     "data": {
      "text/plain": [
       "array([4, 2, 4, 4])"
      ]
     },
     "execution_count": 13,
     "metadata": {},
     "output_type": "execute_result"
    }
   ],
   "source": [
    "np.extract(arr<6 , arr)"
   ]
  },
  {
   "cell_type": "code",
   "execution_count": 15,
   "id": "6fcd8c91-3150-4b85-a9aa-595938c51c57",
   "metadata": {},
   "outputs": [],
   "source": [
    "#numpy - Byte swapping"
   ]
  },
  {
   "cell_type": "code",
   "execution_count": 16,
   "id": "731fceb5-27eb-4d94-9dab-0114184a3dd9",
   "metadata": {},
   "outputs": [
    {
     "data": {
      "text/plain": [
       "array([  288230376151711744,   144115188075855872,   288230376151711744,\n",
       "        5620492334958379008,   648518346341351424,  7206040878769504256,\n",
       "       -1008806316530991104,  4539628424389459968,  1873497444986126336,\n",
       "       -8718405928635858944,   288230376151711744,   504403158265495552])"
      ]
     },
     "execution_count": 16,
     "metadata": {},
     "output_type": "execute_result"
    }
   ],
   "source": [
    "arr.byteswap()"
   ]
  },
  {
   "cell_type": "code",
   "execution_count": 18,
   "id": "e03507f8-07e2-419f-9329-14995a9fba03",
   "metadata": {},
   "outputs": [],
   "source": [
    "#numpy-copies &view"
   ]
  },
  {
   "cell_type": "code",
   "execution_count": 19,
   "id": "8cddaadb-3852-4499-8495-96ef820947ed",
   "metadata": {},
   "outputs": [
    {
     "data": {
      "text/plain": [
       "array([  4,   2,   4,  78,   9, 356, 242,  63,  26, 647,   4,   7])"
      ]
     },
     "execution_count": 19,
     "metadata": {},
     "output_type": "execute_result"
    }
   ],
   "source": [
    "arr"
   ]
  },
  {
   "cell_type": "code",
   "execution_count": 17,
   "id": "406cc42d-36ef-4b60-aab4-8bfcc3789877",
   "metadata": {},
   "outputs": [],
   "source": [
    "a = np.copy(arr)"
   ]
  },
  {
   "cell_type": "code",
   "execution_count": 20,
   "id": "f632c687-7100-48ac-afbc-680869b5c855",
   "metadata": {},
   "outputs": [],
   "source": [
    "b = arr.view()"
   ]
  },
  {
   "cell_type": "code",
   "execution_count": 21,
   "id": "d8bbfc5c-470e-4077-9fcc-72b4d1a664d9",
   "metadata": {},
   "outputs": [
    {
     "data": {
      "text/plain": [
       "array([  4,   2,   4,  78,   9, 356, 242,  63,  26, 647,   4,   7])"
      ]
     },
     "execution_count": 21,
     "metadata": {},
     "output_type": "execute_result"
    }
   ],
   "source": [
    "b"
   ]
  },
  {
   "cell_type": "code",
   "execution_count": 23,
   "id": "74adf4b0-32f1-4e41-8675-a89d020eb9ea",
   "metadata": {},
   "outputs": [],
   "source": [
    "b[0] = 99"
   ]
  },
  {
   "cell_type": "code",
   "execution_count": 24,
   "id": "2da16c49-d341-460e-8241-518edd9f65ab",
   "metadata": {},
   "outputs": [
    {
     "data": {
      "text/plain": [
       "array([ 99,   2,   4,  78,   9, 356, 242,  63,  26, 647,   4,   7])"
      ]
     },
     "execution_count": 24,
     "metadata": {},
     "output_type": "execute_result"
    }
   ],
   "source": [
    "b"
   ]
  },
  {
   "cell_type": "code",
   "execution_count": 25,
   "id": "5b4a1e1c-30bc-475c-9b95-04ddfa8af55e",
   "metadata": {},
   "outputs": [
    {
     "data": {
      "text/plain": [
       "array([ 99,   2,   4,  78,   9, 356, 242,  63,  26, 647,   4,   7])"
      ]
     },
     "execution_count": 25,
     "metadata": {},
     "output_type": "execute_result"
    }
   ],
   "source": [
    "arr"
   ]
  },
  {
   "cell_type": "code",
   "execution_count": 26,
   "id": "3099f46e-5d43-4f1a-8ffe-a91b7c0c8728",
   "metadata": {},
   "outputs": [],
   "source": [
    "#numpy - matrix liberary"
   ]
  },
  {
   "cell_type": "code",
   "execution_count": 27,
   "id": "0be7fe59-9067-4bd5-99a4-00f018680da8",
   "metadata": {},
   "outputs": [],
   "source": [
    "import numpy.matlib as nm "
   ]
  },
  {
   "cell_type": "code",
   "execution_count": 28,
   "id": "7ac96ba1-226b-4fb1-89d9-6f9d8a9e7754",
   "metadata": {},
   "outputs": [
    {
     "data": {
      "text/plain": [
       "matrix([[0., 0., 0., 0., 0.]])"
      ]
     },
     "execution_count": 28,
     "metadata": {},
     "output_type": "execute_result"
    }
   ],
   "source": [
    "nm.zeros(5)"
   ]
  },
  {
   "cell_type": "code",
   "execution_count": 29,
   "id": "9db0ddab-00b9-497d-98c3-9ab2a5d1b5a4",
   "metadata": {},
   "outputs": [
    {
     "data": {
      "text/plain": [
       "matrix([[1., 1., 1., 1.],\n",
       "        [1., 1., 1., 1.],\n",
       "        [1., 1., 1., 1.]])"
      ]
     },
     "execution_count": 29,
     "metadata": {},
     "output_type": "execute_result"
    }
   ],
   "source": [
    "nm.ones((3,4))"
   ]
  },
  {
   "cell_type": "code",
   "execution_count": 30,
   "id": "d2c60f1d-d394-4d39-bf20-9283ab7302ac",
   "metadata": {},
   "outputs": [
    {
     "data": {
      "text/plain": [
       "matrix([[1., 0., 0., 0., 0.],\n",
       "        [0., 1., 0., 0., 0.],\n",
       "        [0., 0., 1., 0., 0.],\n",
       "        [0., 0., 0., 1., 0.],\n",
       "        [0., 0., 0., 0., 1.]])"
      ]
     },
     "execution_count": 30,
     "metadata": {},
     "output_type": "execute_result"
    }
   ],
   "source": [
    "nm.eye(5)"
   ]
  },
  {
   "cell_type": "code",
   "execution_count": 31,
   "id": "016da511-500f-4387-a95a-c93ffb0323f3",
   "metadata": {},
   "outputs": [],
   "source": [
    "#numpy - linear algebra"
   ]
  },
  {
   "cell_type": "code",
   "execution_count": 33,
   "id": "a9cc52a6-7bd0-4420-99db-3e793f0c3321",
   "metadata": {},
   "outputs": [],
   "source": [
    "arr1 = np.random.randint([[2,3] , [4,5]])"
   ]
  },
  {
   "cell_type": "code",
   "execution_count": 34,
   "id": "5bbc68de-ebfe-448b-bf79-cf568392821b",
   "metadata": {},
   "outputs": [],
   "source": [
    "arr2 = np.random.randint([[2,3] , [4,5]])"
   ]
  },
  {
   "cell_type": "code",
   "execution_count": 35,
   "id": "66198350-0406-4b3e-bb8f-9c6f6d00b7bd",
   "metadata": {},
   "outputs": [
    {
     "data": {
      "text/plain": [
       "array([[ 6,  8],\n",
       "       [12, 12]])"
      ]
     },
     "execution_count": 35,
     "metadata": {},
     "output_type": "execute_result"
    }
   ],
   "source": [
    "np.dot(arr1 , arr2)"
   ]
  },
  {
   "cell_type": "code",
   "execution_count": 36,
   "id": "c2443045-1282-4fde-abca-e72ac3bbee73",
   "metadata": {},
   "outputs": [
    {
     "data": {
      "text/plain": [
       "array([[ 6,  8],\n",
       "       [12, 12]])"
      ]
     },
     "execution_count": 36,
     "metadata": {},
     "output_type": "execute_result"
    }
   ],
   "source": [
    "arr1@arr2"
   ]
  },
  {
   "cell_type": "code",
   "execution_count": null,
   "id": "71c31f78-89c8-4ce5-8c7f-51fcc38d8b4d",
   "metadata": {},
   "outputs": [],
   "source": []
  }
 ],
 "metadata": {
  "kernelspec": {
   "display_name": "Python 3 (ipykernel)",
   "language": "python",
   "name": "python3"
  },
  "language_info": {
   "codemirror_mode": {
    "name": "ipython",
    "version": 3
   },
   "file_extension": ".py",
   "mimetype": "text/x-python",
   "name": "python",
   "nbconvert_exporter": "python",
   "pygments_lexer": "ipython3",
   "version": "3.10.8"
  }
 },
 "nbformat": 4,
 "nbformat_minor": 5
}
